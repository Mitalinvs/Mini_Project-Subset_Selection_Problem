{
  "nbformat": 4,
  "nbformat_minor": 0,
  "metadata": {
    "colab": {
      "provenance": [],
      "include_colab_link": true
    },
    "kernelspec": {
      "display_name": "Python 3",
      "language": "python",
      "name": "python3"
    },
    "language_info": {
      "codemirror_mode": {
        "name": "ipython",
        "version": 3
      },
      "file_extension": ".py",
      "mimetype": "text/x-python",
      "name": "python",
      "nbconvert_exporter": "python",
      "pygments_lexer": "ipython3",
      "version": "3.8.5"
    }
  },
  "cells": [
    {
      "cell_type": "markdown",
      "metadata": {
        "id": "view-in-github",
        "colab_type": "text"
      },
      "source": [
        "<a href=\"https://colab.research.google.com/github/Mitalinvs/Mini_Project-Subset_Selection_Problem/blob/main/Subset_Selection_Problem.ipynb\" target=\"_parent\"><img src=\"https://colab.research.google.com/assets/colab-badge.svg\" alt=\"Open In Colab\"/></a>"
      ]
    },
    {
      "cell_type": "markdown",
      "metadata": {
        "id": "7nQSRI4Dim1Y"
      },
      "source": [
        "  ---\n",
        "# **Subset Selection Problem**\n",
        "---\n",
        "####**1. Problem Statement:**\n",
        "Find all the subsets from a set of numbers whose sum is zero.\n",
        "\n",
        "####**Constraint: Subset size must be 5**\n",
        "Set={-12, -3, -6, 7, 2, -2, 6, 3, 9, -7, -5, -8, 1, 11, -9, -4}\n",
        "\n",
        "---"
      ]
    },
    {
      "cell_type": "markdown",
      "metadata": {
        "id": "A30y-VtNim1h"
      },
      "source": [
        "### **1.1 Library inclusion**"
      ]
    },
    {
      "cell_type": "code",
      "metadata": {
        "id": "cF_mSA9Xim1j"
      },
      "source": [
        "import random as r"
      ],
      "execution_count": 1,
      "outputs": []
    },
    {
      "cell_type": "markdown",
      "metadata": {
        "id": "UjvBYy0Lim1m"
      },
      "source": [
        "### **1.2 Parameter Setting**"
      ]
    },
    {
      "cell_type": "code",
      "metadata": {
        "id": "NHB2KMhZim1o"
      },
      "source": [
        "Set         = set([-12, -3, -6, 7, 2, -2, 6, 3, 9, -7, -5, -8, 1, 11, -9, -4])\n",
        "SetSize     = 5\n",
        "ResultList  = set()    # Store Result List i.e. list of sets whose sum is zero\n",
        "Iterations  = 1000    # Number of Iterations"
      ],
      "execution_count": 2,
      "outputs": []
    },
    {
      "cell_type": "markdown",
      "metadata": {
        "id": "BTLd3s--im1c"
      },
      "source": [
        "### **1.3 Start Program**\n",
        "\n",
        "\n"
      ]
    },
    {
      "cell_type": "code",
      "metadata": {
        "id": "veBU-f21im1x",
        "colab": {
          "base_uri": "https://localhost:8080/"
        },
        "outputId": "3d50e332-1e0e-4c0d-9232-313471d123af"
      },
      "source": [
        "# Loop till number of Iterations\n",
        "for i in range(Iterations):\n",
        "    # Select number of elements from Set\n",
        "    Chromosome = r.sample(Set,SetSize)\n",
        "    \n",
        "    # Sum the number of elements in the Chromosome\n",
        "    if sum(Chromosome) == 0:\n",
        "        ResultList.add(tuple(Chromosome))"
      ],
      "execution_count": 3,
      
    },
    {
      "cell_type": "markdown",
      "metadata": {
        "id": "nRWYsJNVim1z"
      },
      "source": [
        "### **1.4 Print the sets and total count**\n"
      ]
    },
    {
      "cell_type": "code",
      "metadata": {
        "colab": {
          "base_uri": "https://localhost:8080/"
        },
        "id": "41abL1k-im10",
        "scrolled": true,
        "outputId": "be87fd3e-6d86-4e5d-dbf3-5f10bbdd9287"
      },
      "source": [
        "# Print all the sets whose sum is zero\n",
        "for r in ResultList:\n",
        "\tprint (r)\n",
        "\n",
        "# Print total sets\n",
        "print (\"\\nTotal Sets: \", len(ResultList), \"\\n\")"
      ],
      "execution_count": 4,
      "outputs": [
        {
          "output_type": "stream",
          "name": "stdout",
          "text": [
            "(11, -7, -2, -3, 1)\n",
            "(7, 11, -4, -5, -9)\n",
            "(7, -7, 6, 3, -9)\n",
            "(-6, 11, 2, -2, -5)\n",
            "(-6, 7, 1, -4, 2)\n",
            "(-5, 3, 6, -6, 2)\n",
            "(-8, 6, -5, 9, -2)\n",
            "(-2, 11, -4, -7, 2)\n",
            "(1, 6, 3, -3, -7)\n",
            "(-7, 6, -6, -4, 11)\n",
            "(-6, 7, 9, -12, 2)\n",
            "(6, 1, 2, -12, 3)\n",
            "(-2, 1, -4, 2, 3)\n",
            "(2, 3, -2, 6, -9)\n",
            "(-8, 7, 9, -9, 1)\n",
            "(-4, -12, 11, -2, 7)\n",
            "(6, 7, -6, -8, 1)\n",
            "(3, 6, -12, 1, 2)\n",
            "(1, 9, -9, 2, -3)\n",
            "(-12, 11, -7, 1, 7)\n",
            "(-6, -3, 7, -7, 9)\n",
            "(-9, 7, -7, 3, 6)\n",
            "(7, -2, -5, -9, 9)\n",
            "(-4, 2, 6, 1, -5)\n",
            "(3, 2, -9, -2, 6)\n",
            "(-6, 7, -2, -8, 9)\n",
            "(6, 1, -6, -8, 7)\n",
            "(-2, -5, -6, 2, 11)\n",
            "(11, -6, -2, -9, 6)\n",
            "(3, -6, 11, -9, 1)\n",
            "(-4, 3, -8, 2, 7)\n",
            "(-5, 2, -7, 7, 3)\n",
            "(-3, 2, 1, -9, 9)\n",
            "(9, 7, -9, -3, -4)\n",
            "(-5, 9, 3, -8, 1)\n",
            "(6, 3, -7, -3, 1)\n",
            "(3, -2, 6, -3, -4)\n",
            "\n",
            "Total Sets:  37 \n",
            "\n"
          ]
        }
      ]
    },
    {
      "cell_type": "markdown",
      "metadata": {
        "id": "E3BNV7YLim12"
      },
      "source": [
        "---\n",
        "### **1.5 Complete Program**\n",
        "---"
      ]
    },
    {
      "cell_type": "code",
      "metadata": {
        "colab": {
          "base_uri": "https://localhost:8080/"
        },
        "id": "c6KthRB9im14",
        "outputId": "9e8e4340-64be-4458-dfca-98e8dea0ae0a"
      },
      "source": [
        "#-------------------------------------------------------------\n",
        "# Step 1: Library inclusion                             \n",
        "#-------------------------------------------------------------\n",
        "import random as r\n",
        "\n",
        "\n",
        "#-------------------------------------------------------------\n",
        "# Step 2: Parameter Setting\n",
        "#-------------------------------------------------------------\n",
        "Set         = set([-12, -3, -6, 7, 2, -2, 6, 3, 9, -7, -5, -8, 1, 11, -9, -4])\n",
        "SetSize     = 5\n",
        "ResultList  = set()    # Store Result List i.e. list of sets whose sum is zero\n",
        "Iterations  = 1000   # Number of Inerations\n",
        "\n",
        "\n",
        "#-------------------------------------------------------------\n",
        "# Step3: Start Program\n",
        "#-------------------------------------------------------------\n",
        "\n",
        "# Loop till number of Iterations\n",
        "for i in range(Iterations):\n",
        "    # Select number of elements from Set\n",
        "    Chromosome = r.sample(Set,SetSize)\n",
        "\n",
        "    # Sum the number of elements in the Chromosome\n",
        "    if sum(Chromosome) == 0:\n",
        "        ResultList.add(tuple(Chromosome))\n",
        "\n",
        "# Print all the sets whose sum is zero\n",
        "for r in ResultList:\n",
        "\tprint (r)\n",
        "\n",
        "# Print total sets\n",
        "print (\"\\nTotal Sets: \", len(ResultList))\n"
      ],
      "execution_count": 8,
      "outputs": [
        {
          "output_type": "stream",
          "name": "stdout",
          "text": [
            "(6, -2, -6, -5, 7)\n",
            "(-2, 7, -9, 9, -5)\n",
            "(-9, 7, -5, -4, 11)\n",
            "(-8, 6, -7, 7, 2)\n",
            "(7, -3, 6, -6, -4)\n",
            "(6, -4, -2, -7, 7)\n",
            "(-6, -3, -5, 3, 11)\n",
            "(-12, -3, 9, -5, 11)\n",
            "(7, 2, -12, -3, 6)\n",
            "(-2, -9, -3, 11, 3)\n",
            "(1, -3, -7, -2, 11)\n",
            "(-6, -7, 11, -4, 6)\n",
            "(-3, 11, -6, -5, 3)\n",
            "(11, -9, -2, 6, -6)\n",
            "(6, 2, -5, -4, 1)\n",
            "(-9, 11, -12, 9, 1)\n",
            "(1, -8, -3, 7, 3)\n",
            "(2, 3, 1, -2, -4)\n",
            "(9, -3, -2, -6, 2)\n",
            "(-9, -4, 9, 3, 1)\n",
            "(11, -8, -4, 3, -2)\n",
            "(1, 6, 3, -7, -3)\n",
            "(3, 1, 6, -4, -6)\n",
            "(9, -5, 6, 2, -12)\n",
            "(1, -2, 6, 3, -8)\n",
            "(6, -7, 2, 1, -2)\n",
            "(7, -7, -3, -6, 9)\n",
            "\n",
            "Total Sets:  27\n"
          ]
        },
        {
          "output_type": "stream",
          "name": "stderr",
          "text": [
            "<ipython-input-8-863105f7322f>:23: DeprecationWarning: Sampling from a set deprecated\n",
            "since Python 3.9 and will be removed in a subsequent version.\n",
            "  Chromosome = r.sample(Set,SetSize)\n"
          ]
        }
      ]
    },
    {
      "cell_type": "markdown",
      "metadata": {
        "id": "stxrIcZtk4LT"
      },
      "source": [
        "---\n",
        "### **1.6 Complete Program with sorting**\n",
        "---"
      ]
    },
    {
      "cell_type": "code",
      "metadata": {
        "colab": {
          "base_uri": "https://localhost:8080/"
        },
        "outputId": "c17e0176-5c3b-4902-ad1e-5878bc156e22",
        "id": "zzblepy0k4LU"
      },
      "source": [
        "#-------------------------------------------------------------\n",
        "# Step 1: Library inclusion                             \n",
        "#-------------------------------------------------------------\n",
        "import random as r\n",
        "\n",
        "\n",
        "#-------------------------------------------------------------\n",
        "# Step 2: Parameter Setting\n",
        "#-------------------------------------------------------------\n",
        "Set         = set([-12, -3, -6, 7, 2, -2, 6, 3, 9, -7, -5, -8, 1, 11, -9, -4])\n",
        "SetSize     = 5\n",
        "ResultList  = set()    # Store Result List i.e. list of sets whose sum is zero\n",
        "Iterations  = 1000   # Number of Inerations\n",
        "\n",
        "\n",
        "#-------------------------------------------------------------\n",
        "# Step3: Start Program\n",
        "#-------------------------------------------------------------\n",
        "\n",
        "# Loop till number of Iterations\n",
        "for i in range(Iterations):\n",
        "    # Select number of elements from Set\n",
        "    Chromosome = r.sample(Set,SetSize)\n",
        "    Chromosome.sort()\n",
        "\n",
        "    # Sum the number of elements in the Chromosome\n",
        "    if sum(Chromosome) == 0:\n",
        "        ResultList.add(tuple(Chromosome))\n",
        "\n",
        "# Print all the sets whose sum is zero\n",
        "for r in ResultList:\n",
        "\tprint (r)\n",
        "\n",
        "# Print total sets\n",
        "print (\"\\nTotal Sets: \", len(ResultList))\n"
      ],
      "execution_count": 10,
      "outputs": [
        {
          "output_type": "stream",
          "name": "stdout",
          "text": [
            "(-9, -2, 1, 3, 7)\n",
            "(-6, -4, -3, 6, 7)\n",
            "(-9, -7, -4, 9, 11)\n",
            "(-9, -2, 2, 3, 6)\n",
            "(-9, -5, 2, 3, 9)\n",
            "(-7, -6, 1, 3, 9)\n",
            "(-8, -3, -2, 6, 7)\n",
            "(-12, -7, 2, 6, 11)\n",
            "(-8, -5, -2, 6, 9)\n",
            "(-7, -4, -2, 2, 11)\n",
            "(-6, -5, 2, 3, 6)\n",
            "(-6, -5, -2, 2, 11)\n",
            "(-12, -4, -2, 7, 11)\n",
            "(-8, -6, 1, 2, 11)\n",
            "(-8, -5, -3, 7, 9)\n",
            "(-8, -4, 2, 3, 7)\n",
            "(-6, -5, -4, 6, 9)\n",
            "(-9, -5, 1, 6, 7)\n",
            "(-9, -7, 1, 6, 9)\n",
            "(-7, -3, -2, 1, 11)\n",
            "(-8, -7, -2, 6, 11)\n",
            "(-5, -4, -2, 2, 9)\n",
            "(-9, -4, -2, 6, 9)\n",
            "(-5, -4, -3, 3, 9)\n",
            "(-7, -6, -5, 7, 11)\n",
            "(-6, -5, -2, 6, 7)\n",
            "(-12, -9, 1, 9, 11)\n",
            "\n",
            "Total Sets:  27\n"
          ]
        },
        {
          "output_type": "stream",
          "name": "stderr",
          "text": [
            "<ipython-input-10-91cb451df7bd>:23: DeprecationWarning: Sampling from a set deprecated\n",
            "since Python 3.9 and will be removed in a subsequent version.\n",
            "  Chromosome = r.sample(Set,SetSize)\n"
          ]
        }
      ]
    },
    {
      "cell_type": "markdown",
      "metadata": {
        "id": "Kaevs6ROim18"
      },
      "source": [
        "---\n",
        "####**2. Problem Statement:**\n",
        "Find all the subsets from a set of numbers whose sum is zero.\n",
        "\n",
        "####**Constraint: Subset size must be 3 to 6 only**\n",
        "Set={-12, -3, -6, 7, 2, -2, 6, 3, 9, -7, -5, -8, 1, 11, -9, -4}\n",
        "\n",
        "---"
      ]
    },
    {
      "cell_type": "code",
      "metadata": {
        "colab": {
          "base_uri": "https://localhost:8080/"
        },
        "id": "XmPJbrOXim19",
        "outputId": "f7a35c93-217c-4f11-9777-8b0b2e6249fb"
      },
      "source": [
        "#-------------------------------------------------------------\n",
        "# Step 1: Library inclusion                             \n",
        "#-------------------------------------------------------------\n",
        "import random as r\n",
        "\n",
        "\n",
        "#-------------------------------------------------------------\n",
        "# Step 2: Parameter Setting\n",
        "#-------------------------------------------------------------\n",
        "Set         = set([-12, -3, -6, 7, 2, -2, 6, 3, 9, -7, -5, -8, 1, 11, -9, -4])\n",
        "SetLB       = 3\n",
        "SetUB       = 6\n",
        "ResultList  = set()    # Store Result List i.e. list of sets whose sum is zero\n",
        "Iterations  = 1000   # Number of Inerations\n",
        "\n",
        "\n",
        "#-------------------------------------------------------------\n",
        "# Step3: Start Program\n",
        "#-------------------------------------------------------------\n",
        "\n",
        "# Loop till number of Iterations\n",
        "for i in range(Iterations):\n",
        "    # Select set size randomly\n",
        "    SetSize = r.randint(SetLB,SetUB)\n",
        "\t\n",
        "    # Select number of elements from Set\n",
        "    Chromosome = r.sample(Set,SetSize)\n",
        "    Chromosome.sort()\n",
        "\n",
        "    # Sum the number of elements in the Chromosome\n",
        "    if sum(Chromosome) == 0:\n",
        "        ResultList.add(tuple(Chromosome))\n",
        "\n",
        "# Print all the sets whose sum is zero\n",
        "for r in ResultList:\n",
        "\tprint (r)\n",
        "\n",
        "# Print total sets\n",
        "print (\"\\nTotal Sets: \", len(ResultList))\n"
      ],
      "execution_count": 11,
      "outputs": [
        {
          "output_type": "stream",
          "name": "stdout",
          "text": [
            "(-12, -6, 3, 6, 9)\n",
            "(-12, -6, -2, 9, 11)\n",
            "(-9, 2, 7)\n",
            "(-9, -7, 2, 3, 11)\n",
            "(-6, -4, -3, 6, 7)\n",
            "(-8, -6, 3, 11)\n",
            "(-5, 2, 3)\n",
            "(-12, 3, 9)\n",
            "(-9, -8, 1, 2, 3, 11)\n",
            "(-5, -3, 2, 6)\n",
            "(-6, -5, -4, 2, 6, 7)\n",
            "(-5, -4, 3, 6)\n",
            "(-12, 1, 11)\n",
            "(-5, -2, 1, 6)\n",
            "(-9, -4, 1, 2, 3, 7)\n",
            "(-8, -3, 1, 3, 7)\n",
            "(-12, -4, 7, 9)\n",
            "(-7, -3, 1, 2, 7)\n",
            "(-8, 2, 6)\n",
            "(-5, -4, -2, 1, 3, 7)\n",
            "(-7, -4, 11)\n",
            "(-9, -2, 11)\n",
            "(-8, -4, 1, 2, 9)\n",
            "(-5, -3, -2, 1, 9)\n",
            "(-8, -4, 2, 3, 7)\n",
            "(-8, -4, -2, 1, 2, 11)\n",
            "(-12, -5, 1, 2, 3, 11)\n",
            "(-12, -4, -3, 2, 6, 11)\n",
            "(-7, 1, 6)\n",
            "(-9, 3, 6)\n",
            "(-6, -5, -2, 6, 7)\n",
            "(-7, -5, -3, 6, 9)\n",
            "(-9, -8, 1, 3, 6, 7)\n",
            "\n",
            "Total Sets:  33\n"
          ]
        },
        {
          "output_type": "stream",
          "name": "stderr",
          "text": [
            "<ipython-input-11-8bdee75e019c>:27: DeprecationWarning: Sampling from a set deprecated\n",
            "since Python 3.9 and will be removed in a subsequent version.\n",
            "  Chromosome = r.sample(Set,SetSize)\n"
          ]
        }
      ]
    }
  ]
}
